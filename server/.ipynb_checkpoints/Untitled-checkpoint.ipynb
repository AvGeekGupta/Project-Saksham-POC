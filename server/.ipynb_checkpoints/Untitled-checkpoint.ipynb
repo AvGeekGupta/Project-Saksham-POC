{
 "cells": [
  {
   "cell_type": "code",
   "execution_count": 1,
   "id": "01854ed9-7b3e-472a-9f12-419282394b15",
   "metadata": {},
   "outputs": [],
   "source": [
    "import numpy as np\n",
    "import pandas as pd\n",
    "import matplotlib.pyplot as plt\n",
    "from sklearn.metrics import confusion_matrix,accuracy_score, classification_report, multilabel_confusion_matrix\n",
    "import tensorflow as tf\n",
    "from tensorflow.keras.models import Sequential\n",
    "from tensorflow.keras.layers import Conv2D, MaxPool2D, Flatten, Dense, Dropout, BatchNormalization\n",
    "import seaborn as sns\n",
    "\n",
    "import warnings \n",
    "warnings.filterwarnings('ignore')"
   ]
  },
  {
   "cell_type": "code",
   "execution_count": null,
   "id": "98036d9e-7ef2-4f0b-81dd-8c1897ef9520",
   "metadata": {},
   "outputs": [],
   "source": [
    "train = pd.read_csv('/kaggle/input/sign-language-mnist/sign_mnist_train.csv')\n",
    "test = pd.read_csv('/kaggle/input/sign-language-mnist/sign_mnist_test.csv')"
   ]
  },
  {
   "cell_type": "code",
   "execution_count": null,
   "id": "4284254f-294a-4a8c-b123-51dd0bd3a9fb",
   "metadata": {},
   "outputs": [],
   "source": [
    "train.head()"
   ]
  },
  {
   "cell_type": "code",
   "execution_count": null,
   "id": "79b4020b-9d9e-421d-b9a3-39bfb3d6e71b",
   "metadata": {},
   "outputs": [],
   "source": [
    "train.isnull()"
   ]
  },
  {
   "cell_type": "code",
   "execution_count": null,
   "id": "b5234e09-96e9-4a2e-b634-80cb08603cd3",
   "metadata": {},
   "outputs": [],
   "source": [
    "train.isna().sum()"
   ]
  },
  {
   "cell_type": "code",
   "execution_count": null,
   "id": "c8ebf3c1-a710-433b-80b8-0154bdb91e44",
   "metadata": {},
   "outputs": [],
   "source": [
    "train_df_original = train.copy()\n",
    "\n",
    "# Split into training, test and validation sets\n",
    "val_index = int(train.shape[0]*0.2)\n",
    "\n",
    "train_df = train_df_original.iloc[val_index:]\n",
    "val_df = train_df_original.iloc[:val_index]"
   ]
  },
  {
   "cell_type": "code",
   "execution_count": null,
   "id": "8963849f-9959-4da8-b774-8de3f9aac976",
   "metadata": {},
   "outputs": [],
   "source": [
    "y = np.array(train_df['label'])\n",
    "X = np.array(train_df.drop(columns='label'))"
   ]
  },
  {
   "cell_type": "code",
   "execution_count": null,
   "id": "c9de3e45-06eb-451c-a355-c996f01d1191",
   "metadata": {},
   "outputs": [],
   "source": [
    "X.shape,y.shape"
   ]
  },
  {
   "cell_type": "code",
   "execution_count": null,
   "id": "ff962494-45f6-4db2-b0d8-f87c259c9bae",
   "metadata": {},
   "outputs": [],
   "source": [
    "import random\n",
    "r = random.randint(0,(21964-1))\n",
    "def show_img():\n",
    "    arr = np.array(X)\n",
    "    some_value = arr[r]\n",
    "    some_img = some_value.reshape(28,28)\n",
    "    plt.imshow(some_img, cmap=\"gray\")\n",
    "    plt.axis(\"off\")\n",
    "    plt.show()  \n",
    "\n",
    "show_img()\n",
    "print(y[r])"
   ]
  },
  {
   "cell_type": "code",
   "execution_count": null,
   "id": "9f726436-a978-4ada-aae0-ff3db0f98b5f",
   "metadata": {},
   "outputs": [],
   "source": [
    "y_train = pd.get_dummies(y)\n",
    "y_train.head(5)"
   ]
  },
  {
   "cell_type": "code",
   "execution_count": null,
   "id": "4710b9ad-2722-41e0-95a2-16c401bf7c8b",
   "metadata": {},
   "outputs": [],
   "source": [
    "y_val = val_df['label']\n",
    "X_val = val_df.drop(columns=\"label\",axis=1)"
   ]
  },
  {
   "cell_type": "code",
   "execution_count": null,
   "id": "e63ea990-0eee-4c31-a775-d536bf11fcac",
   "metadata": {},
   "outputs": [],
   "source": [
    "y_val = pd.get_dummies(y_val)"
   ]
  },
  {
   "cell_type": "code",
   "execution_count": null,
   "id": "64ca4fa1-6c17-4f46-8af9-4c8f57757c33",
   "metadata": {},
   "outputs": [],
   "source": [
    "y_train.shape "
   ]
  },
  {
   "cell_type": "code",
   "execution_count": null,
   "id": "605ad5df-274f-49ca-bc74-e66ac7d8c7fd",
   "metadata": {},
   "outputs": [],
   "source": [
    "X_val = pd.DataFrame(X_val).values.reshape(X_val.shape[0] ,28, 28, 1)"
   ]
  },
  {
   "cell_type": "code",
   "execution_count": null,
   "id": "944fc958-fd75-4b76-a1ec-caea99fc7549",
   "metadata": {},
   "outputs": [],
   "source": [
    "X_train = pd.DataFrame(X).values.reshape(X.shape[0] ,28, 28, 1)"
   ]
  },
  {
   "cell_type": "code",
   "execution_count": null,
   "id": "806c7868-65c4-4f77-8ee8-788db4622ab9",
   "metadata": {},
   "outputs": [],
   "source": [
    "X_train.shape,y_train.shape"
   ]
  },
  {
   "cell_type": "code",
   "execution_count": null,
   "id": "41bdd8e4-cdfd-42b4-85be-60daa194cce9",
   "metadata": {},
   "outputs": [],
   "source": [
    "generator = tf.keras.preprocessing.image.ImageDataGenerator(\n",
    "    rescale=1./255,\n",
    "    rotation_range=10,\n",
    "    zoom_range=0.10,\n",
    "    width_shift_range=0.1,\n",
    "    height_shift_range=0.1,\n",
    "    shear_range=0.1,\n",
    "    horizontal_flip=False,\n",
    "    fill_mode=\"nearest\"\n",
    ")\n",
    "\n",
    "X_train_flow = generator.flow(X_train, y_train, batch_size=32)\n",
    "\n",
    "X_val_flow = generator.flow(X_val, y_val, batch_size=32)"
   ]
  },
  {
   "cell_type": "code",
   "execution_count": null,
   "id": "32c8247b-00c4-4ba8-a76f-c2601a190c1e",
   "metadata": {},
   "outputs": [],
   "source": [
    "model = Sequential()\n",
    "\n",
    "model.add(Conv2D(filters=32,  kernel_size=(3,3), activation=\"relu\", input_shape=(28,28,1)))\n",
    "model.add(MaxPool2D((2,2),padding='SAME'))\n",
    "model.add(Dropout(rate=0.2))\n",
    "\n",
    "\n",
    "model.add(Conv2D(filters=64,  kernel_size=(3,3), activation=\"relu\", input_shape=(28,28,1)))\n",
    "model.add(MaxPool2D((2,2),padding='SAME'))\n",
    "model.add(Dropout(rate=0.2))\n",
    "\n",
    "\n",
    "model.add(Conv2D(filters=521,  kernel_size=(3,3), activation=\"relu\", input_shape=(28,28,1)))\n",
    "model.add(MaxPool2D((2,2),padding='SAME'))\n",
    "model.add(Dropout(rate=0.2))\n",
    "\n",
    "\n",
    "\n",
    "model.add(Flatten())\n",
    "model.add(Dense(units=521, activation=\"relu\"))\n",
    "model.add(Dense(units=256, activation=\"relu\"))\n",
    "model.add(Dropout(0.5))\n",
    "model.add(Dense(units=24, activation=\"softmax\"))\n",
    "\n",
    "\n",
    "model.compile(loss=\"categorical_crossentropy\", optimizer='adam',  metrics=[\"accuracy\"])"
   ]
  },
  {
   "cell_type": "code",
   "execution_count": null,
   "id": "4ee0d260-5ce1-47d0-b2f1-5d723a155251",
   "metadata": {},
   "outputs": [],
   "source": [
    "model.summary()"
   ]
  },
  {
   "cell_type": "code",
   "execution_count": null,
   "id": "fd4068b7-5bdd-427d-8fbc-ca7aa176d692",
   "metadata": {},
   "outputs": [],
   "source": [
    "learning_rate_reduction = tf.keras.callbacks.ReduceLROnPlateau(\n",
    "    monitor='val_accuracy', patience = 2, verbose=1,factor=0.5, min_lr=0.00001\n",
    ")"
   ]
  },
  {
   "cell_type": "code",
   "execution_count": null,
   "id": "5552b7bb-c4fe-4d0a-a109-49372c6afdd8",
   "metadata": {},
   "outputs": [],
   "source": [
    "history = model.fit(\n",
    "    X_train_flow,\n",
    "    validation_data=X_val_flow,\n",
    "    epochs=100,\n",
    "    callbacks=[\n",
    "               tf.keras.callbacks.EarlyStopping(\n",
    "                   monitor='val_loss',\n",
    "                   patience=5,\n",
    "                   restore_best_weights=True\n",
    "                   ),\n",
    "      learning_rate_reduction\n",
    "    ])"
   ]
  },
  {
   "cell_type": "code",
   "execution_count": null,
   "id": "b879ab6a-5a5a-434e-953c-d33ab52853f5",
   "metadata": {},
   "outputs": [],
   "source": [
    "fig, axes = plt.subplots(2, 1, figsize=(15, 10))\n",
    "ax = axes.flat\n",
    "\n",
    "pd.DataFrame(history.history)[['accuracy','val_accuracy']].plot(ax=ax[0])\n",
    "ax[0].set_title(\"Accuracy\", fontsize = 15)\n",
    "ax[0].set_ylim(0,1.1)\n",
    "\n",
    "pd.DataFrame(history.history)[['loss','val_loss']].plot(ax=ax[1])\n",
    "ax[1].set_title(\"Loss\", fontsize = 15)\n",
    "plt.show()"
   ]
  },
  {
   "cell_type": "code",
   "execution_count": null,
   "id": "d0308220-8977-4356-8f7d-984771d74990",
   "metadata": {},
   "outputs": [],
   "source": [
    "y_test = np.array(test['label'])\n",
    "X_test = np.array(test.drop(columns='label'))\n",
    "\n",
    "y_test = pd.get_dummies(y_test)\n",
    "X_test = pd.DataFrame(X_test).values.reshape(X_test.shape[0] ,28, 28, 1)\n",
    "\n",
    "# X_test_flow = generator.flow(X_test, y_test, batch_size=32)\n",
    "# X_test.shape,X_train.shape\n",
    "\n",
    "y_test = pd.get_dummies(y_test)"
   ]
  },
  {
   "cell_type": "code",
   "execution_count": null,
   "id": "5d48d60b-3ca8-49ae-bfb0-34479cc78ce2",
   "metadata": {},
   "outputs": [],
   "source": [
    "from sklearn.metrics import classification_report\n",
    "\n",
    "# predictions\n",
    "pred = model.predict(X_test)\n",
    "\n",
    "y_pred = np.argmax(pred,axis=1)\n",
    "y_test = np.argmax(y_test.values,axis=1)"
   ]
  },
  {
   "cell_type": "code",
   "execution_count": null,
   "id": "1b1b86f0-f4cd-407b-8608-1e811b8ca23e",
   "metadata": {},
   "outputs": [],
   "source": [
    "acc = accuracy_score(y_test,y_pred)\n",
    "\n",
    "# # Display the results\n",
    "print(f'## {acc*100:.2f}% accuracy on the test set')"
   ]
  },
  {
   "cell_type": "code",
   "execution_count": null,
   "id": "3a9e8b10-1b97-4126-872c-5841d8c21bd2",
   "metadata": {},
   "outputs": [],
   "source": [
    "fer_json = model.to_json()\n",
    "with open(\"MNIST_Sign.json\", \"w\") as json_file:\n",
    "    json_file.write(fer_json)\n",
    "model.save('./MNIST_Sign_tf',save_format='tf')\n",
    "model.save(\"MNIST_Sign.h5\")\n",
    "model.save_weights(\"MNIST_Sign.h5\")"
   ]
  }
 ],
 "metadata": {
  "kernelspec": {
   "display_name": "Python 3 (ipykernel)",
   "language": "python",
   "name": "python3"
  },
  "language_info": {
   "codemirror_mode": {
    "name": "ipython",
    "version": 3
   },
   "file_extension": ".py",
   "mimetype": "text/x-python",
   "name": "python",
   "nbconvert_exporter": "python",
   "pygments_lexer": "ipython3",
   "version": "3.9.10"
  }
 },
 "nbformat": 4,
 "nbformat_minor": 5
}
