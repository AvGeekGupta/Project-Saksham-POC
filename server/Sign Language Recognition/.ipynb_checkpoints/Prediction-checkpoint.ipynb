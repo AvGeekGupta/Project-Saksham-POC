{
 "cells": [
  {
   "cell_type": "code",
   "execution_count": 8,
   "id": "a1a86527-a482-4dbc-9416-f4f41ab48453",
   "metadata": {},
   "outputs": [],
   "source": [
    "import tensorflow as tf\n",
    "from PIL import Image\n",
    "import numpy as np\n",
    "import pandas as pd"
   ]
  },
  {
   "cell_type": "code",
   "execution_count": 2,
   "id": "c0928576-6c59-4d7d-93b8-5666c841e791",
   "metadata": {},
   "outputs": [],
   "source": [
    "model = tf.keras.models.load_model('SavedModel/SignLanguageRecognitionModel_tf')"
   ]
  },
  {
   "cell_type": "code",
   "execution_count": 3,
   "id": "88f939a8-ddb8-4a62-9eb2-cb96b19d8db7",
   "metadata": {},
   "outputs": [
    {
     "name": "stdout",
     "output_type": "stream",
     "text": [
      "Model: \"sequential\"\n",
      "_________________________________________________________________\n",
      " Layer (type)                Output Shape              Param #   \n",
      "=================================================================\n",
      " conv2d (Conv2D)             (None, 26, 26, 32)        320       \n",
      "                                                                 \n",
      " max_pooling2d (MaxPooling2D  (None, 13, 13, 32)       0         \n",
      " )                                                               \n",
      "                                                                 \n",
      " dropout (Dropout)           (None, 13, 13, 32)        0         \n",
      "                                                                 \n",
      " conv2d_1 (Conv2D)           (None, 11, 11, 64)        18496     \n",
      "                                                                 \n",
      " max_pooling2d_1 (MaxPooling  (None, 6, 6, 64)         0         \n",
      " 2D)                                                             \n",
      "                                                                 \n",
      " dropout_1 (Dropout)         (None, 6, 6, 64)          0         \n",
      "                                                                 \n",
      " conv2d_2 (Conv2D)           (None, 4, 4, 521)         300617    \n",
      "                                                                 \n",
      " max_pooling2d_2 (MaxPooling  (None, 2, 2, 521)        0         \n",
      " 2D)                                                             \n",
      "                                                                 \n",
      " dropout_2 (Dropout)         (None, 2, 2, 521)         0         \n",
      "                                                                 \n",
      " flatten (Flatten)           (None, 2084)              0         \n",
      "                                                                 \n",
      " dense (Dense)               (None, 521)               1086285   \n",
      "                                                                 \n",
      " dense_1 (Dense)             (None, 256)               133632    \n",
      "                                                                 \n",
      " dropout_3 (Dropout)         (None, 256)               0         \n",
      "                                                                 \n",
      " dense_2 (Dense)             (None, 24)                6168      \n",
      "                                                                 \n",
      "=================================================================\n",
      "Total params: 1,545,518\n",
      "Trainable params: 1,545,518\n",
      "Non-trainable params: 0\n",
      "_________________________________________________________________\n"
     ]
    }
   ],
   "source": [
    "model.summary()"
   ]
  },
  {
   "cell_type": "code",
   "execution_count": 12,
   "id": "51406394-36b9-4ca1-a1d4-4805be09a6fa",
   "metadata": {},
   "outputs": [],
   "source": [
    "img = Image.open('./Test Images/A.png')\n",
    "imgGray = img.convert('L')\n",
    "resized_img = imgGray.resize((28, 28))\n",
    "img_array = np.asarray(resized_img)\n",
    "image = pd.DataFrame(img_array).values.reshape(1 ,28, 28, 1)"
   ]
  },
  {
   "cell_type": "code",
   "execution_count": 20,
   "id": "f7ec17b5-b316-43a5-a3b5-6b5142c3a7a5",
   "metadata": {},
   "outputs": [
    {
     "data": {
      "text/plain": [
       "array([[0., 0., 0., 0., 0., 0., 0., 0., 0., 0., 0., 0., 0., 0., 1., 0.,\n",
       "        0., 0., 0., 0., 0., 0., 0., 0.]], dtype=float32)"
      ]
     },
     "execution_count": 20,
     "metadata": {},
     "output_type": "execute_result"
    }
   ],
   "source": [
    "model.predict(image)"
   ]
  },
  {
   "cell_type": "code",
   "execution_count": null,
   "id": "eb7c4799-b6fd-4465-9585-6d8f36942c57",
   "metadata": {},
   "outputs": [],
   "source": []
  }
 ],
 "metadata": {
  "kernelspec": {
   "display_name": "Python 3 (ipykernel)",
   "language": "python",
   "name": "python3"
  },
  "language_info": {
   "codemirror_mode": {
    "name": "ipython",
    "version": 3
   },
   "file_extension": ".py",
   "mimetype": "text/x-python",
   "name": "python",
   "nbconvert_exporter": "python",
   "pygments_lexer": "ipython3",
   "version": "3.9.10"
  }
 },
 "nbformat": 4,
 "nbformat_minor": 5
}
